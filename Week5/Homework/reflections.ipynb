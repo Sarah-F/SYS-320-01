{
 "cells": [
  {
   "cell_type": "markdown",
   "metadata": {},
   "source": [
    "# Registry Description\n",
    "\n",
    "1. Search for Signs Of Credentials Collection In The Registry\n",
    "Description: The Windows Registry stores configuration information that can be used by the system or other programs. Adversaries may query the Registry looking for credentials and passwords that have been stored for use by other programs or services. Sometimes these credentials are used for automatic logons. Adversaries could also inject malicious DLLs into registry keys that are loaded after reboot. When a user authenticates the DLLs have a routine that captures their credentials after login."
   ]
  },
  {
   "cell_type": "markdown",
   "metadata": {},
   "source": [
    "# Scripts Description\n",
    "\n",
    "2. Search For Processes Running JavaScript Or VBScript\n",
    "Description: Adversaries may use scripts to aid in operations and perform multiple actions that would otherwise be manual. Scripting is useful for speeding up operational tasks and reducing the time required to gain access to critical resources. Some scripting languages may be used to bypass process monitoring mechanisms by directly interacting with the operating system at an API level instead of calling other programs. Common scripting languages for Windows include VBScript and PowerShell but could also be in the form of command-line batch scripts."
   ]
  },
  {
   "cell_type": "markdown",
   "metadata": {},
   "source": [
    "# Powershell Description\n",
    "\n",
    "\n",
    "3. Search for Powershell executions¶Links to an external site.\n",
    "Description: PowerShell is a powerful interactive command-line interface and scripting environment included in the Windows operating system. Adversaries can use PowerShell to perform a number of actions, including discovery of information and execution of code. Examples include the Start-Process cmdlet which can be used to run an executable and the Invoke-Command cmdlet which runs a command locally or on a remote computer."
   ]
  },
  {
   "cell_type": "markdown",
   "metadata": {},
   "source": [
    "#Reflections\n",
    "\n",
    "- Pick out 1 line of output from your results for each of the three attacks outlined below and explain why it is suspicious?\n",
    "    - When I ran the registry I got a lots of the same bits of different results,\n",
    "    - When I ran scripts I appear to have got the same results as when I ran registry\n",
    "    - When I ran powershell I appear to have got the same results as when I ran registry and scripts\n",
    "\n",
    "- What did you like the most and least about this assignment?\n",
    "    - This assignment was interesting, but it was very hard get the code to execute properly\n",
    "\n",
    "- What additional questions do you have?\n",
    "    - Is there any documentation I can study to help improve my skills."
   ]
  }
 ],
 "metadata": {
  "kernelspec": {
   "display_name": "Python 3.8.9 64-bit",
   "language": "python",
   "name": "python3"
  },
  "language_info": {
   "codemirror_mode": {
    "name": "ipython",
    "version": 3
   },
   "file_extension": ".py",
   "mimetype": "text/x-python",
   "name": "python",
   "nbconvert_exporter": "python",
   "pygments_lexer": "ipython3",
   "version": "3.8.9"
  },
  "orig_nbformat": 4,
  "vscode": {
   "interpreter": {
    "hash": "31f2aee4e71d21fbe5cf8b01ff0e069b9275f58929596ceb00d14d90e3e16cd6"
   }
  }
 },
 "nbformat": 4,
 "nbformat_minor": 2
}
