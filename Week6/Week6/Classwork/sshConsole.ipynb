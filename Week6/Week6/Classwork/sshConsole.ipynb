{
 "cells": [
  {
   "cell_type": "code",
   "execution_count": 5,
   "metadata": {},
   "outputs": [],
   "source": [
    "import paramiko\n",
    "from getpass import getpass\n",
    "\n",
    "# Create the password prompt\n",
    "thePass = getpass(prompt=\"Please enter your SSH password:  \")\n",
    "\n",
    "# Host information\n",
    "host = \"127.0.0.1\"\n",
    "port = 22\n",
    "username = \"sarahfornaldes\"\n",
    "password = thePass\n",
    "\n",
    "try:\n",
    "    ssh = paramiko.SSHClient()\n",
    "    ssh.set_missing_host_key_policy(paramiko.AutoAddPolicy())\n",
    "    ssh.connect(host, port, username, password)\n",
    "\n",
    "except paramiko.AuthenticationException:\n",
    "    print(\"Authentication failed\")"
   ]
  },
  {
   "cell_type": "code",
   "execution_count": 6,
   "metadata": {},
   "outputs": [],
   "source": [
    "# Run a single command\n",
    "#command = \"ps -ef\"\n",
    "\n",
    "# Run a list of commands\n",
    "command = ['ps -ef', 'netstan -an --inet', 'last -adx', 'cut -d: -f1 /etc/passwd']\n",
    "\n",
    "for eachCMD in command:\n",
    "    # Get the output from the command\n",
    "    stdin, stdout, stderr  = ssh.exec_command(eachCMD)\n",
    "\n",
    "    # Get results  from stdout\n",
    "    lines =  stdout.readlines()\n",
    "    #print(lines)\n",
    "\n",
    "    # Convert the list to a string\n",
    "    output =  ''.join(lines)\n",
    "    #print(output)\n",
    "\n",
    "    # Header output\n",
    "    sepHeader = '' + '### BEGIN ' + eachCMD + ' ###\\n\\n'\n",
    "\n",
    "    # Footer output\n",
    "    sepFooter = '' + '### END ' + eachCMD + ' ###\\n\\n'\n",
    "\n",
    "    # Concatonate the header, output, and footer\n",
    "    cmd_output =  sepHeader + output +  sepFooter\n",
    "    #print(cmd_output)\n",
    "\n",
    "    # Save the cmd_output to a file\n",
    "    with open('ssh_results.txt', 'a') as f:\n",
    "        f.write(cmd_output)\n",
    "\n",
    "#ssh.close  vs.code didn't like this, just manually turned off ssh"
   ]
  },
  {
   "cell_type": "code",
   "execution_count": null,
   "metadata": {},
   "outputs": [],
   "source": []
  },
  {
   "cell_type": "markdown",
   "metadata": {},
   "source": [
    "Go to system  preferneces, type remote  login, turn off remote login"
   ]
  }
 ],
 "metadata": {
  "kernelspec": {
   "display_name": "Python 3.8.1 64-bit",
   "language": "python",
   "name": "python3"
  },
  "language_info": {
   "codemirror_mode": {
    "name": "ipython",
    "version": 3
   },
   "file_extension": ".py",
   "mimetype": "text/x-python",
   "name": "python",
   "nbconvert_exporter": "python",
   "pygments_lexer": "ipython3",
   "version": "3.8.1"
  },
  "orig_nbformat": 4,
  "vscode": {
   "interpreter": {
    "hash": "aee8b7b246df8f9039afb4144a1f6fd8d2ca17a180786b69acc140d282b71a49"
   }
  }
 },
 "nbformat": 4,
 "nbformat_minor": 2
}
