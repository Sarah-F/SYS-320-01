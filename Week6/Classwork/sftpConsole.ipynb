{
 "cells": [
  {
   "cell_type": "code",
   "execution_count": 18,
   "metadata": {},
   "outputs": [],
   "source": [
    "import paramiko\n",
    "from getpass import getpass\n",
    "\n",
    "# Create the password prompt\n",
    "thePass = getpass(prompt=\"Please enter your SSH password:  \")\n",
    "\n",
    "# Host information\n",
    "host = \"127.0.0.1\"\n",
    "port = 22\n",
    "username = \"sarahfornaldes\"\n",
    "password = thePass\n",
    "\n",
    "try:\n",
    "    ssh = paramiko.SSHClient()\n",
    "    ssh.set_missing_host_key_policy(paramiko.AutoAddPolicy())\n",
    "    ssh.connect(host, port, username, password)\n",
    "\n",
    "except paramiko.AuthenticationException:\n",
    "    print(\"Authentication failed\")"
   ]
  },
  {
   "cell_type": "code",
   "execution_count": 21,
   "metadata": {},
   "outputs": [
    {
     "ename": "NotADirectoryError",
     "evalue": "[Errno 20] Not a directory: 'remote_files/hosts'",
     "output_type": "error",
     "traceback": [
      "\u001b[0;31m---------------------------------------------------------------------------\u001b[0m",
      "\u001b[0;31mNotADirectoryError\u001b[0m                        Traceback (most recent call last)",
      "Cell \u001b[0;32mIn [21], line 21\u001b[0m\n\u001b[1;32m     16\u001b[0m \u001b[38;5;66;03m#print(filename)\u001b[39;00m\n\u001b[1;32m     17\u001b[0m \n\u001b[1;32m     18\u001b[0m \u001b[38;5;66;03m# Local path to store files\u001b[39;00m\n\u001b[1;32m     19\u001b[0m local_path \u001b[38;5;241m=\u001b[39m \u001b[38;5;124m\"\u001b[39m\u001b[38;5;124mremote_files/\u001b[39m\u001b[38;5;124m\"\u001b[39m \u001b[38;5;241m+\u001b[39m filename\n\u001b[0;32m---> 21\u001b[0m \u001b[43msftp\u001b[49m\u001b[38;5;241;43m.\u001b[39;49m\u001b[43mget\u001b[49m\u001b[43m(\u001b[49m\u001b[43meachFile\u001b[49m\u001b[43m,\u001b[49m\u001b[43mlocal_path\u001b[49m\u001b[43m)\u001b[49m\n",
      "File \u001b[0;32m/Library/Frameworks/Python.framework/Versions/3.8/lib/python3.8/site-packages/paramiko/sftp_client.py:810\u001b[0m, in \u001b[0;36mSFTPClient.get\u001b[0;34m(self, remotepath, localpath, callback, prefetch)\u001b[0m\n\u001b[1;32m    790\u001b[0m \u001b[39mdef\u001b[39;00m \u001b[39mget\u001b[39m(\u001b[39mself\u001b[39m, remotepath, localpath, callback\u001b[39m=\u001b[39m\u001b[39mNone\u001b[39;00m, prefetch\u001b[39m=\u001b[39m\u001b[39mTrue\u001b[39;00m):\n\u001b[1;32m    791\u001b[0m     \u001b[39m\"\"\"\u001b[39;00m\n\u001b[1;32m    792\u001b[0m \u001b[39m    Copy a remote file (``remotepath``) from the SFTP server to the local\u001b[39;00m\n\u001b[1;32m    793\u001b[0m \u001b[39m    host as ``localpath``.  Any exception raised by operations will be\u001b[39;00m\n\u001b[0;32m   (...)\u001b[0m\n\u001b[1;32m    808\u001b[0m \u001b[39m        Added the ``prefetch`` keyword argument.\u001b[39;00m\n\u001b[1;32m    809\u001b[0m \u001b[39m    \"\"\"\u001b[39;00m\n\u001b[0;32m--> 810\u001b[0m     \u001b[39mwith\u001b[39;00m \u001b[39mopen\u001b[39;49m(localpath, \u001b[39m\"\u001b[39;49m\u001b[39mwb\u001b[39;49m\u001b[39m\"\u001b[39;49m) \u001b[39mas\u001b[39;00m fl:\n\u001b[1;32m    811\u001b[0m         size \u001b[39m=\u001b[39m \u001b[39mself\u001b[39m\u001b[39m.\u001b[39mgetfo(remotepath, fl, callback, prefetch)\n\u001b[1;32m    812\u001b[0m     s \u001b[39m=\u001b[39m os\u001b[39m.\u001b[39mstat(localpath)\n",
      "\u001b[0;31mNotADirectoryError\u001b[0m: [Errno 20] Not a directory: 'remote_files/hosts'"
     ]
    }
   ],
   "source": [
    "# Start SFTP session\n",
    "sftp = ssh.open_sftp()\n",
    "\n",
    "# List of files to download\n",
    "files = ['/etc/hosts','/etc/passwd','/var/log/auth.log']\n",
    "\n",
    "# Loop through  the files and download them\n",
    "for eachFile in files:\n",
    "\n",
    "    # Create a list from  the filename\n",
    "    x = eachFile.split(\"/\")\n",
    "    #print(x)\n",
    "\n",
    "    # -1 used to pluck the last element in a list\n",
    "    filename = x[-1]\n",
    "    #print(filename)\n",
    "\n",
    "    # Local path to store files\n",
    "    local_path = \"remote_files/\" + filename\n",
    "\n",
    "    sftp.get(eachFile,local_path) #this is not liked by my device\n",
    "    #sftp.put(LOCALFILE,REMOTESIDE) # this doesnt work for me\n",
    "\n",
    "#ssh.close  vs.code didn't like this, just manually turned off ssh"
   ]
  },
  {
   "cell_type": "markdown",
   "metadata": {},
   "source": [
    "Go to system  preferneces, type remote  login, turn off remote login"
   ]
  }
 ],
 "metadata": {
  "kernelspec": {
   "display_name": "Python 3.8.1 64-bit",
   "language": "python",
   "name": "python3"
  },
  "language_info": {
   "codemirror_mode": {
    "name": "ipython",
    "version": 3
   },
   "file_extension": ".py",
   "mimetype": "text/x-python",
   "name": "python",
   "nbconvert_exporter": "python",
   "pygments_lexer": "ipython3",
   "version": "3.8.1"
  },
  "orig_nbformat": 4,
  "vscode": {
   "interpreter": {
    "hash": "aee8b7b246df8f9039afb4144a1f6fd8d2ca17a180786b69acc140d282b71a49"
   }
  }
 },
 "nbformat": 4,
 "nbformat_minor": 2
}
