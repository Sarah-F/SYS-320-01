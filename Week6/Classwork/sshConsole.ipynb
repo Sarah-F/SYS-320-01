{
 "cells": [
  {
   "cell_type": "code",
   "execution_count": 7,
   "metadata": {},
   "outputs": [
    {
     "name": "stdout",
     "output_type": "stream",
     "text": [
      "Authentication failed\n"
     ]
    }
   ],
   "source": [
    "import paramiko\n",
    "from getpass import getpass\n",
    "\n",
    "# Create the password prompt\n",
    "thePass = getpass(prompt=\"Please enter your SSH password:  \")\n",
    "\n",
    "# Host information\n",
    "host = \"127.0.0.1\"\n",
    "port = 22\n",
    "username = \"sarahfornaldes\"\n",
    "password = thePass\n",
    "\n",
    "try:\n",
    "    ssh = paramiko.SSHClient()\n",
    "    ssh.set_missing_host_key_policy(paramiko.AutoAddPolicy())\n",
    "    ssh.connect(host, port, username, password)\n",
    "\n",
    "except paramiko.AuthenticationException:\n",
    "    print(\"Authentication failed\")"
   ]
  },
  {
   "cell_type": "code",
   "execution_count": 8,
   "metadata": {},
   "outputs": [
    {
     "name": "stderr",
     "output_type": "stream",
     "text": [
      "Oops, unhandled type 3 ('unimplemented')\n"
     ]
    },
    {
     "ename": "KeyboardInterrupt",
     "evalue": "",
     "output_type": "error",
     "traceback": [
      "\u001b[0;31m---------------------------------------------------------------------------\u001b[0m",
      "\u001b[0;31mKeyboardInterrupt\u001b[0m                         Traceback (most recent call last)",
      "Cell \u001b[0;32mIn [8], line 5\u001b[0m\n\u001b[1;32m      2\u001b[0m command \u001b[38;5;241m=\u001b[39m \u001b[38;5;124m\"\u001b[39m\u001b[38;5;124mps -ef\u001b[39m\u001b[38;5;124m\"\u001b[39m\n\u001b[1;32m      4\u001b[0m \u001b[38;5;66;03m# Get the output from the command\u001b[39;00m\n\u001b[0;32m----> 5\u001b[0m stdin, stdout, stderr  \u001b[38;5;241m=\u001b[39m \u001b[43mssh\u001b[49m\u001b[38;5;241;43m.\u001b[39;49m\u001b[43mexec_command\u001b[49m\u001b[43m(\u001b[49m\u001b[43mcommand\u001b[49m\u001b[43m)\u001b[49m\n\u001b[1;32m      7\u001b[0m \u001b[38;5;66;03m# Get results  from stdout\u001b[39;00m\n\u001b[1;32m      8\u001b[0m lines \u001b[38;5;241m=\u001b[39m  stdout\u001b[38;5;241m.\u001b[39mreadlines()\n",
      "File \u001b[0;32m/Library/Frameworks/Python.framework/Versions/3.8/lib/python3.8/site-packages/paramiko/client.py:510\u001b[0m, in \u001b[0;36mSSHClient.exec_command\u001b[0;34m(self, command, bufsize, timeout, get_pty, environment)\u001b[0m\n\u001b[1;32m    470\u001b[0m \u001b[39mdef\u001b[39;00m \u001b[39mexec_command\u001b[39m(\n\u001b[1;32m    471\u001b[0m     \u001b[39mself\u001b[39m,\n\u001b[1;32m    472\u001b[0m     command,\n\u001b[0;32m   (...)\u001b[0m\n\u001b[1;32m    476\u001b[0m     environment\u001b[39m=\u001b[39m\u001b[39mNone\u001b[39;00m,\n\u001b[1;32m    477\u001b[0m ):\n\u001b[1;32m    478\u001b[0m     \u001b[39m\"\"\"\u001b[39;00m\n\u001b[1;32m    479\u001b[0m \u001b[39m    Execute a command on the SSH server.  A new `.Channel` is opened and\u001b[39;00m\n\u001b[1;32m    480\u001b[0m \u001b[39m    the requested command is executed.  The command's input and output\u001b[39;00m\n\u001b[0;32m   (...)\u001b[0m\n\u001b[1;32m    508\u001b[0m \u001b[39m        Added the ``get_pty`` kwarg.\u001b[39;00m\n\u001b[1;32m    509\u001b[0m \u001b[39m    \"\"\"\u001b[39;00m\n\u001b[0;32m--> 510\u001b[0m     chan \u001b[39m=\u001b[39m \u001b[39mself\u001b[39;49m\u001b[39m.\u001b[39;49m_transport\u001b[39m.\u001b[39;49mopen_session(timeout\u001b[39m=\u001b[39;49mtimeout)\n\u001b[1;32m    511\u001b[0m     \u001b[39mif\u001b[39;00m get_pty:\n\u001b[1;32m    512\u001b[0m         chan\u001b[39m.\u001b[39mget_pty()\n",
      "File \u001b[0;32m/Library/Frameworks/Python.framework/Versions/3.8/lib/python3.8/site-packages/paramiko/transport.py:920\u001b[0m, in \u001b[0;36mTransport.open_session\u001b[0;34m(self, window_size, max_packet_size, timeout)\u001b[0m\n\u001b[1;32m    892\u001b[0m \u001b[39mdef\u001b[39;00m \u001b[39mopen_session\u001b[39m(\n\u001b[1;32m    893\u001b[0m     \u001b[39mself\u001b[39m, window_size\u001b[39m=\u001b[39m\u001b[39mNone\u001b[39;00m, max_packet_size\u001b[39m=\u001b[39m\u001b[39mNone\u001b[39;00m, timeout\u001b[39m=\u001b[39m\u001b[39mNone\u001b[39;00m\n\u001b[1;32m    894\u001b[0m ):\n\u001b[1;32m    895\u001b[0m     \u001b[39m\"\"\"\u001b[39;00m\n\u001b[1;32m    896\u001b[0m \u001b[39m    Request a new channel to the server, of type ``\"session\"``.  This is\u001b[39;00m\n\u001b[1;32m    897\u001b[0m \u001b[39m    just an alias for calling `open_channel` with an argument of\u001b[39;00m\n\u001b[0;32m   (...)\u001b[0m\n\u001b[1;32m    918\u001b[0m \u001b[39m        Added the ``window_size`` and ``max_packet_size`` arguments.\u001b[39;00m\n\u001b[1;32m    919\u001b[0m \u001b[39m    \"\"\"\u001b[39;00m\n\u001b[0;32m--> 920\u001b[0m     \u001b[39mreturn\u001b[39;00m \u001b[39mself\u001b[39;49m\u001b[39m.\u001b[39;49mopen_channel(\n\u001b[1;32m    921\u001b[0m         \u001b[39m\"\u001b[39;49m\u001b[39msession\u001b[39;49m\u001b[39m\"\u001b[39;49m,\n\u001b[1;32m    922\u001b[0m         window_size\u001b[39m=\u001b[39;49mwindow_size,\n\u001b[1;32m    923\u001b[0m         max_packet_size\u001b[39m=\u001b[39;49mmax_packet_size,\n\u001b[1;32m    924\u001b[0m         timeout\u001b[39m=\u001b[39;49mtimeout,\n\u001b[1;32m    925\u001b[0m     )\n",
      "File \u001b[0;32m/Library/Frameworks/Python.framework/Versions/3.8/lib/python3.8/site-packages/paramiko/transport.py:1046\u001b[0m, in \u001b[0;36mTransport.open_channel\u001b[0;34m(self, kind, dest_addr, src_addr, window_size, max_packet_size, timeout)\u001b[0m\n\u001b[1;32m   1044\u001b[0m start_ts \u001b[39m=\u001b[39m time\u001b[39m.\u001b[39mtime()\n\u001b[1;32m   1045\u001b[0m \u001b[39mwhile\u001b[39;00m \u001b[39mTrue\u001b[39;00m:\n\u001b[0;32m-> 1046\u001b[0m     event\u001b[39m.\u001b[39;49mwait(\u001b[39m0.1\u001b[39;49m)\n\u001b[1;32m   1047\u001b[0m     \u001b[39mif\u001b[39;00m \u001b[39mnot\u001b[39;00m \u001b[39mself\u001b[39m\u001b[39m.\u001b[39mactive:\n\u001b[1;32m   1048\u001b[0m         e \u001b[39m=\u001b[39m \u001b[39mself\u001b[39m\u001b[39m.\u001b[39mget_exception()\n",
      "File \u001b[0;32m/Library/Frameworks/Python.framework/Versions/3.8/lib/python3.8/threading.py:558\u001b[0m, in \u001b[0;36mEvent.wait\u001b[0;34m(self, timeout)\u001b[0m\n\u001b[1;32m    556\u001b[0m signaled \u001b[39m=\u001b[39m \u001b[39mself\u001b[39m\u001b[39m.\u001b[39m_flag\n\u001b[1;32m    557\u001b[0m \u001b[39mif\u001b[39;00m \u001b[39mnot\u001b[39;00m signaled:\n\u001b[0;32m--> 558\u001b[0m     signaled \u001b[39m=\u001b[39m \u001b[39mself\u001b[39;49m\u001b[39m.\u001b[39;49m_cond\u001b[39m.\u001b[39;49mwait(timeout)\n\u001b[1;32m    559\u001b[0m \u001b[39mreturn\u001b[39;00m signaled\n",
      "File \u001b[0;32m/Library/Frameworks/Python.framework/Versions/3.8/lib/python3.8/threading.py:306\u001b[0m, in \u001b[0;36mCondition.wait\u001b[0;34m(self, timeout)\u001b[0m\n\u001b[1;32m    304\u001b[0m \u001b[39melse\u001b[39;00m:\n\u001b[1;32m    305\u001b[0m     \u001b[39mif\u001b[39;00m timeout \u001b[39m>\u001b[39m \u001b[39m0\u001b[39m:\n\u001b[0;32m--> 306\u001b[0m         gotit \u001b[39m=\u001b[39m waiter\u001b[39m.\u001b[39;49macquire(\u001b[39mTrue\u001b[39;49;00m, timeout)\n\u001b[1;32m    307\u001b[0m     \u001b[39melse\u001b[39;00m:\n\u001b[1;32m    308\u001b[0m         gotit \u001b[39m=\u001b[39m waiter\u001b[39m.\u001b[39macquire(\u001b[39mFalse\u001b[39;00m)\n",
      "\u001b[0;31mKeyboardInterrupt\u001b[0m: "
     ]
    }
   ],
   "source": [
    "# Run a  command\n",
    "command = \"ps -ef\"\n",
    "\n",
    "# Get the output from the command\n",
    "stdin, stdout, stderr  = ssh.exec_command(command)\n",
    "\n",
    "# Get results  from stdout\n",
    "lines =  stdout.readlines()\n",
    "#print(lines)\n",
    "\n",
    "\n",
    "output "
   ]
  },
  {
   "cell_type": "markdown",
   "metadata": {},
   "source": [
    "Go to system  preferneces, type remote  login, turn off remote login"
   ]
  }
 ],
 "metadata": {
  "kernelspec": {
   "display_name": "Python 3.8.1 64-bit",
   "language": "python",
   "name": "python3"
  },
  "language_info": {
   "codemirror_mode": {
    "name": "ipython",
    "version": 3
   },
   "file_extension": ".py",
   "mimetype": "text/x-python",
   "name": "python",
   "nbconvert_exporter": "python",
   "pygments_lexer": "ipython3",
   "version": "3.8.1"
  },
  "orig_nbformat": 4,
  "vscode": {
   "interpreter": {
    "hash": "aee8b7b246df8f9039afb4144a1f6fd8d2ca17a180786b69acc140d282b71a49"
   }
  }
 },
 "nbformat": 4,
 "nbformat_minor": 2
}
