{
 "cells": [
  {
   "cell_type": "code",
   "execution_count": 32,
   "metadata": {},
   "outputs": [],
   "source": [
    "import os, sys, argparse, paramiko, yaml\n",
    "from getpass import getpass\n",
    "from os.path import exists"
   ]
  },
  {
   "cell_type": "code",
   "execution_count": 33,
   "metadata": {},
   "outputs": [],
   "source": [
    "# Checks to see if the file specified for the results exists. Prompts the user that the file exists and if they want to delete it. If so, then the user provides the response,delete the file.\n",
    "\n",
    "if exists('results.txt') is True:\n",
    "    check = input('Results.txt already exists. Would you like to delete it? (y/n): ')\n",
    "    if check == 'y':\n",
    "        os.remove('results.txt')\n",
    "    elif check == 'n':\n",
    "        print('You chose to not delete the existing file, new resutls will append to the old results file.')\n",
    "    else:\n",
    "        print('Invalid Option')\n",
    "        sys.exit()"
   ]
  },
  {
   "cell_type": "code",
   "execution_count": 34,
   "metadata": {},
   "outputs": [],
   "source": [
    "# Create the password prompt\n",
    "thePass = getpass(prompt=\"Please enter your SSH password:  \")\n",
    "\n",
    "# Host information\n",
    "host = \"127.0.0.1\"\n",
    "port = 22\n",
    "username = \"sarahfornaldes\"\n",
    "password = thePass\n",
    "\n",
    "try:\n",
    "    ssh = paramiko.SSHClient()\n",
    "    ssh.set_missing_host_key_policy(paramiko.AutoAddPolicy())\n",
    "    ssh.connect(host, port, username, password)\n",
    "\n",
    "except paramiko.AuthenticationException:\n",
    "    print(\"Authentication failed\")"
   ]
  },
  {
   "cell_type": "code",
   "execution_count": 39,
   "metadata": {},
   "outputs": [
    {
     "ename": "FileNotFoundError",
     "evalue": "[Errno 2] No such file or directory: '/Users/sarahfornaldes/Desktop/SYS-320-01/Week6/Task3_fs.py'",
     "output_type": "error",
     "traceback": [
      "\u001b[0;31m---------------------------------------------------------------------------\u001b[0m",
      "\u001b[0;31mFileNotFoundError\u001b[0m                         Traceback (most recent call last)",
      "Cell \u001b[0;32mIn [39], line 8\u001b[0m\n\u001b[1;32m      5\u001b[0m uploadFiles \u001b[38;5;241m=\u001b[39m [\u001b[38;5;124m'\u001b[39m\u001b[38;5;124m/Users/sarahfornaldes/Desktop/SYS-320-01/Week6/Task3_fs.py\u001b[39m\u001b[38;5;124m'\u001b[39m, \u001b[38;5;124m'\u001b[39m\u001b[38;5;124m/Users/sarahfornaldes/Desktop/SYS-320-01/Week6/Task2_searchTerms.yaml\u001b[39m\u001b[38;5;124m'\u001b[39m]\n\u001b[1;32m      7\u001b[0m \u001b[38;5;28;01mfor\u001b[39;00m eachFile \u001b[38;5;129;01min\u001b[39;00m uploadFiles:\n\u001b[0;32m----> 8\u001b[0m     \u001b[43msftp\u001b[49m\u001b[38;5;241;43m.\u001b[39;49m\u001b[43mput\u001b[49m\u001b[43m(\u001b[49m\u001b[43meachFile\u001b[49m\u001b[43m,\u001b[49m\u001b[43m \u001b[49m\u001b[38;5;124;43m'\u001b[39;49m\u001b[38;5;124;43m/Users/sarahfornaldes/Desktop/SYS-320-01/Week6/\u001b[39;49m\u001b[38;5;124;43m'\u001b[39;49m\u001b[43m)\u001b[49m\n\u001b[1;32m     10\u001b[0m \u001b[38;5;66;03m# Run the script in /usr/bin\u001b[39;00m\n\u001b[1;32m     11\u001b[0m command \u001b[38;5;241m=\u001b[39m [\u001b[38;5;124m'\u001b[39m\u001b[38;5;124mpython3 /Users/sarahfornaldes/Desktop/SYS-320-01/Week6/Task3_fs.py -d /usr/bin\u001b[39m\u001b[38;5;124m'\u001b[39m]\n",
      "File \u001b[0;32m/Library/Frameworks/Python.framework/Versions/3.8/lib/python3.8/site-packages/paramiko/sftp_client.py:757\u001b[0m, in \u001b[0;36mSFTPClient.put\u001b[0;34m(self, localpath, remotepath, callback, confirm)\u001b[0m\n\u001b[1;32m    729\u001b[0m \u001b[39mdef\u001b[39;00m \u001b[39mput\u001b[39m(\u001b[39mself\u001b[39m, localpath, remotepath, callback\u001b[39m=\u001b[39m\u001b[39mNone\u001b[39;00m, confirm\u001b[39m=\u001b[39m\u001b[39mTrue\u001b[39;00m):\n\u001b[1;32m    730\u001b[0m     \u001b[39m\"\"\"\u001b[39;00m\n\u001b[1;32m    731\u001b[0m \u001b[39m    Copy a local file (``localpath``) to the SFTP server as ``remotepath``.\u001b[39;00m\n\u001b[1;32m    732\u001b[0m \u001b[39m    Any exception raised by operations will be passed through.  This\u001b[39;00m\n\u001b[0;32m   (...)\u001b[0m\n\u001b[1;32m    755\u001b[0m \u001b[39m        ``confirm`` param added.\u001b[39;00m\n\u001b[1;32m    756\u001b[0m \u001b[39m    \"\"\"\u001b[39;00m\n\u001b[0;32m--> 757\u001b[0m     file_size \u001b[39m=\u001b[39m os\u001b[39m.\u001b[39;49mstat(localpath)\u001b[39m.\u001b[39mst_size\n\u001b[1;32m    758\u001b[0m     \u001b[39mwith\u001b[39;00m \u001b[39mopen\u001b[39m(localpath, \u001b[39m\"\u001b[39m\u001b[39mrb\u001b[39m\u001b[39m\"\u001b[39m) \u001b[39mas\u001b[39;00m fl:\n\u001b[1;32m    759\u001b[0m         \u001b[39mreturn\u001b[39;00m \u001b[39mself\u001b[39m\u001b[39m.\u001b[39mputfo(fl, remotepath, file_size, callback, confirm)\n",
      "\u001b[0;31mFileNotFoundError\u001b[0m: [Errno 2] No such file or directory: '/Users/sarahfornaldes/Desktop/SYS-320-01/Week6/Task3_fs.py'"
     ]
    }
   ],
   "source": [
    "# Start SFTP Session\n",
    "sftp = ssh.open_sftp()\n",
    "\n",
    "# Upload the fs.py and searchTerms yaml file\n",
    "uploadFiles = ['/Users/sarahfornaldes/Desktop/SYS-320-01/Week6/Task3_fs.py', '/Users/sarahfornaldes/Desktop/SYS-320-01/Week6/Task2_searchTerms.yaml']\n",
    "\n",
    "for eachFile in uploadFiles:\n",
    "    sftp.put(eachFile, '/Users/sarahfornaldes/Desktop/SYS-320-01/Week6')\n",
    "\n",
    "# Run the script in /usr/bin\n",
    "command = ['python3 /Users/sarahfornaldes/Desktop/SYS-320-01/Week6/Task3_fs.py -d /usr/bin']\n",
    "\n",
    "for eachCMD in command:\n",
    "    # Get the output from the command\n",
    "    stdin, stdout, stderr  = ssh.exec_command(eachCMD)\n",
    "    print(stdout)\n",
    "    # Get results  from stdout\n",
    "    lines =  stdout.readlines()\n",
    "    #print(lines)\n",
    "\n",
    "    # Convert the list to a string\n",
    "    output =  ''.join(lines)\n",
    "    print(output)\n",
    "\n",
    "    # Header output\n",
    "    sepHeader = '' + '### BEGIN ' + eachCMD + ' ###\\n\\n'\n",
    "\n",
    "    # Footer output\n",
    "    sepFooter = '' + '### END ' + eachCMD + ' ###\\n\\n'\n",
    "\n",
    "    # Concatonate the header, output, and footer\n",
    "    cmd_output =  sepHeader + output +  sepFooter\n",
    "    #print(cmd_output)\n",
    "\n",
    "    # Save the cmd_output to a file\n",
    "    with open('results.txt', 'a') as f:\n",
    "        f.write(cmd_output)\n",
    "\n",
    "# End SFTP Session\n",
    "sftp.close()\n",
    "\n",
    "\n",
    "#python3 /Users/sarahfornaldes/Desktop/SYS-320-01/Week6/Homework/Task3_fs.py -d /usr/bin"
   ]
  }
 ],
 "metadata": {
  "kernelspec": {
   "display_name": "Python 3.8.1 64-bit",
   "language": "python",
   "name": "python3"
  },
  "language_info": {
   "codemirror_mode": {
    "name": "ipython",
    "version": 3
   },
   "file_extension": ".py",
   "mimetype": "text/x-python",
   "name": "python",
   "nbconvert_exporter": "python",
   "pygments_lexer": "ipython3",
   "version": "3.8.1"
  },
  "orig_nbformat": 4,
  "vscode": {
   "interpreter": {
    "hash": "aee8b7b246df8f9039afb4144a1f6fd8d2ca17a180786b69acc140d282b71a49"
   }
  }
 },
 "nbformat": 4,
 "nbformat_minor": 2
}
