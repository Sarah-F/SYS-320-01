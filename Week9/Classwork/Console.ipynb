{
 "cells": [
  {
   "cell_type": "code",
   "execution_count": 13,
   "metadata": {},
   "outputs": [],
   "source": [
    "import os, sys, argparse, paramiko\n",
    "from getpass import getpass\n",
    "from os.path import exists"
   ]
  },
  {
   "cell_type": "code",
   "execution_count": 14,
   "metadata": {},
   "outputs": [],
   "source": [
    "# Create the password prompt\n",
    "thePass = getpass(prompt=\"Please enter your SSH password:  \")\n",
    "\n",
    "# Host information\n",
    "host = \"192.168.6.71\"\n",
    "port = 2222\n",
    "username = \"sarah.fornaldes\"\n",
    "password = thePass\n",
    "\n",
    "try:\n",
    "    ssh = paramiko.SSHClient()\n",
    "    ssh.set_missing_host_key_policy(paramiko.AutoAddPolicy())\n",
    "    ssh.connect(host, port, username, password)\n",
    "\n",
    "except paramiko.AuthenticationException:\n",
    "    print(\"Authentication failed\")"
   ]
  },
  {
   "cell_type": "code",
   "execution_count": 15,
   "metadata": {},
   "outputs": [],
   "source": [
    "sftp = ssh.open_sftp()\n",
    "\n",
    "# Run a command to scan all known directories on Linux that have a *bin* directory\n",
    "command = '/home/ubuntu/kraken --folder /usr/bin --folder  --folder /usr/sbin/   --folder /usr/local/bin  --folder /sbin  --folder /usr/local/sbin  --folder /bin'\n",
    "\n",
    "ssh.exec_command('kraken')\n",
    "sftp.put('kraken', 'kraken')\n",
    "\n",
    "# Get the output from the command\n",
    "stdin, stdout, stderr  = ssh.exec_command(command)\n",
    "\n",
    "# Get results  from stdout\n",
    "lines =  stdout.readlines()\n",
    "#print(lines)\n",
    "\n",
    "# Convert the list to a string\n",
    "output =  ''.join(lines)\n",
    "#print(output)\n",
    "\n",
    "# Header output\n",
    "sepHeader = '' + '### BEGIN ' + command + ' ###\\n\\n'\n",
    "\n",
    "# Footer output\n",
    "sepFooter = '' + '### END ' + command + ' ###\\n\\n'\n",
    "\n",
    "# Concatonate the header, output, and footer\n",
    "cmd_output =  sepHeader + output +  sepFooter\n",
    "#print(cmd_output)\n",
    "\n",
    "# Save the cmd_output to a file\n",
    "with open('results.txt', 'a') as f:\n",
    "    f.write(cmd_output)\n",
    "\n",
    "#ssh.close()\n",
    "sftp.close()"
   ]
  },
  {
   "cell_type": "code",
   "execution_count": 16,
   "metadata": {},
   "outputs": [],
   "source": [
    "sftp = ssh.open_sftp()\n",
    "\n",
    "# Uploads results.txt file\n",
    "uploadFiles = ['results.txt']\n",
    "\n",
    "# Runs the lsof command, lsof lists all open files for a process                \n",
    "command = 'sudo -S lsof -i -n'\n",
    "\n",
    "# Get the output from the command\n",
    "stdin, stdout, stderr  = ssh.exec_command(command)\n",
    "\n",
    "# Input password to run the command as sudo, including a new line character that provides \"Enter\" as if you were typing it in on a keyboard\n",
    "stdin.write(thePass + \"\\n\")\n",
    "\n",
    "# Get results  from stdout\n",
    "lines =  stdout.readlines()\n",
    "\n",
    "# Convert the list to a string\n",
    "output =  ''.join(lines)\n",
    "\n",
    "# Header output\n",
    "sepHeader = '' + '### BEGIN ' + command + ' ###\\n\\n'\n",
    "\n",
    "# Footer output\n",
    "sepFooter = '' + '### END ' + command + ' ###\\n\\n'\n",
    "\n",
    "# Concatonate the header, output, and footer\n",
    "cmd_output =  sepHeader + output +  sepFooter\n",
    "\n",
    "# Save the cmd_output to a file\n",
    "with open('resultsLsof.txt', 'a') as f:\n",
    "    f.write(cmd_output)\n",
    "\n",
    "# End SFTP Session\n",
    "ssh.close()\n",
    "sftp.close()"
   ]
  },
  {
   "cell_type": "markdown",
   "metadata": {},
   "source": [
    "look at threat report, use regex for lsof -p xxxx command\n",
    "https://github.com/Sarah-F/SYS-320-01/blob/main/Week5/Homework/searchLogCsv.py "
   ]
  }
 ],
 "metadata": {
  "kernelspec": {
   "display_name": "Python 3.10.6 64-bit",
   "language": "python",
   "name": "python3"
  },
  "language_info": {
   "codemirror_mode": {
    "name": "ipython",
    "version": 3
   },
   "file_extension": ".py",
   "mimetype": "text/x-python",
   "name": "python",
   "nbconvert_exporter": "python",
   "pygments_lexer": "ipython3",
   "version": "3.10.6"
  },
  "orig_nbformat": 4,
  "vscode": {
   "interpreter": {
    "hash": "26de051ba29f2982a8de78e945f0abaf191376122a1563185a90213a26c5da77"
   }
  }
 },
 "nbformat": 4,
 "nbformat_minor": 2
}
