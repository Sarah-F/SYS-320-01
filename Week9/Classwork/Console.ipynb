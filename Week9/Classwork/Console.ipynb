{
 "cells": [
  {
   "cell_type": "code",
   "execution_count": 31,
   "metadata": {},
   "outputs": [],
   "source": [
    "import os, sys, argparse, paramiko\n",
    "from getpass import getpass\n",
    "from os.path import exists"
   ]
  },
  {
   "cell_type": "code",
   "execution_count": 32,
   "metadata": {},
   "outputs": [],
   "source": [
    "# Create the password prompt\n",
    "thePass = getpass(prompt=\"Please enter your SSH password:  \")\n",
    "\n",
    "# Host information\n",
    "host = \"192.168.6.71\"\n",
    "port = 2222\n",
    "username = \"sarah.fornaldes\"\n",
    "password = thePass\n",
    "\n",
    "try:\n",
    "    ssh = paramiko.SSHClient()\n",
    "    ssh.set_missing_host_key_policy(paramiko.AutoAddPolicy())\n",
    "    ssh.connect(host, port, username, password)\n",
    "\n",
    "except paramiko.AuthenticationException:\n",
    "    print(\"Authentication failed\")"
   ]
  },
  {
   "cell_type": "markdown",
   "metadata": {},
   "source": [
    "# TASK 2"
   ]
  },
  {
   "cell_type": "code",
   "execution_count": 33,
   "metadata": {},
   "outputs": [],
   "source": [
    "sftp = ssh.open_sftp()\n",
    "\n",
    "# Run a command to scan all known directories on Linux that have a *bin* directory\n",
    "command = 'sudo -S /home/ubuntu/kraken --folder /usr/bin --folder --folder /usr/sbin/ --folder /usr/local/bin --folder /sbin --folder /usr/local/sbin --folder /bin'\n",
    "\n",
    "ssh.exec_command('kraken')\n",
    "sftp.put('kraken', 'kraken')\n",
    "\n",
    "thePass = getpass(prompt=\"Please enter your SSH password:  \")\n",
    "\n",
    "# Get the output from the command\n",
    "stdin, stdout, stderr  = ssh.exec_command(command)\n",
    "\n",
    "stdin.write(thePass + \"\\n\")\n",
    "stdin.flush()\n",
    "\n",
    "# Get results  from stdout\n",
    "lines =  stdout.readlines()\n",
    "#print(lines)\n",
    "\n",
    "# Convert the list to a string\n",
    "output =  ''.join(lines)\n",
    "\n",
    "# Header output\n",
    "sepHeader = '' + '### BEGIN ' + command + ' ###\\n\\n'\n",
    "\n",
    "# Footer output\n",
    "sepFooter = '' + '### END ' + command + ' ###\\n\\n'\n",
    "\n",
    "# Concatonate the header, output, and footer\n",
    "cmd_output = sepHeader + output + sepFooter\n",
    "\n",
    "# Save the cmd_output to a file\n",
    "with open('results123.txt', 'a') as f:\n",
    "    f.write(cmd_output)\n",
    "\n",
    "#ssh.close()\n",
    "#sftp.close()"
   ]
  },
  {
   "cell_type": "code",
   "execution_count": 37,
   "metadata": {},
   "outputs": [],
   "source": [
    "#sftp = ssh.open_sftp()\n",
    "\n",
    "# Uploads results.txt file\n",
    "uploadFiles = ['results123.txt']\n",
    "\n",
    "# Runs the lsof command, lsof lists all open files for a process                \n",
    "command = \"sudo -S lsof -i -n | awk '{print $2}' \"\n",
    "\n",
    "# Get the output from the command\n",
    "stdin, stdout, stderr  = ssh.exec_command(command)\n",
    "\n",
    "# Input password to run the command as sudo, including a new line character that provides \"Enter\" as if you were typing it in on a keyboard\n",
    "stdin.write(thePass + \"\\n\")\n",
    "\n",
    "# Get results  from stdout\n",
    "lines =  stdout.readlines()\n",
    "\n",
    "# Convert the list to a string\n",
    "output =  ''.join(lines)\n",
    "\n",
    "# Header output\n",
    "sepHeader = '' + '### BEGIN ' + command + ' ###\\n\\n'\n",
    "\n",
    "# Footer output\n",
    "sepFooter = '' + '### END ' + command + ' ###\\n\\n'\n",
    "\n",
    "# Concatonate the header, output, and footer\n",
    "cmd_output =  sepHeader + output +  sepFooter\n",
    "\n",
    "# Save the cmd_output to a file\n",
    "with open('resultsLsof.txt', 'a') as f:\n",
    "    f.write(cmd_output)\n",
    "\n",
    "# End SFTP Session\n",
    "#ssh.close()\n",
    "#sftp.close()"
   ]
  },
  {
   "cell_type": "code",
   "execution_count": 35,
   "metadata": {},
   "outputs": [
    {
     "ename": "TypeError",
     "evalue": "expected str, bytes or os.PathLike object, not list",
     "output_type": "error",
     "traceback": [
      "\u001b[1;31m---------------------------------------------------------------------------\u001b[0m",
      "\u001b[1;31mTypeError\u001b[0m                                 Traceback (most recent call last)",
      "Cell \u001b[1;32mIn [35], line 7\u001b[0m\n\u001b[0;32m      3\u001b[0m resultsPID \u001b[38;5;241m=\u001b[39m [\u001b[38;5;241m519423\u001b[39m, \u001b[38;5;241m561559\u001b[39m]\n\u001b[0;32m      5\u001b[0m uploadFiles \u001b[38;5;241m=\u001b[39m [\u001b[38;5;124m'\u001b[39m\u001b[38;5;124mresultsLsof.txt\u001b[39m\u001b[38;5;124m'\u001b[39m]\n\u001b[1;32m----> 7\u001b[0m \u001b[38;5;28;01mwith\u001b[39;00m \u001b[38;5;28;43mopen\u001b[39;49m\u001b[43m(\u001b[49m\u001b[43muploadFiles\u001b[49m\u001b[43m)\u001b[49m \u001b[38;5;28;01mas\u001b[39;00m f:\n\u001b[0;32m      8\u001b[0m \n\u001b[0;32m      9\u001b[0m     \u001b[38;5;66;03m# read in the file and save it to a variable\u001b[39;00m\n\u001b[0;32m     10\u001b[0m     contents \u001b[38;5;241m=\u001b[39m f\u001b[38;5;241m.\u001b[39mreadlines()\n\u001b[0;32m     12\u001b[0m     \u001b[38;5;66;03m# Lists to store the results\u001b[39;00m\n",
      "\u001b[1;31mTypeError\u001b[0m: expected str, bytes or os.PathLike object, not list"
     ]
    }
   ],
   "source": [
    "import re\n",
    "\n",
    "resultsPID = [519423, 561559]\n",
    "\n",
    "uploadFiles = ['resultsLsof.txt']\n",
    "\n",
    "with open(uploadFiles) as f:\n",
    "\n",
    "    # read in the file and save it to a variable\n",
    "    contents = f.readlines()\n",
    "    \n",
    "    # Lists to store the results\n",
    "    results = []\n",
    "\n",
    "    # Skips first line\n",
    "    for _ in range(1): \n",
    "        next(contents)\n",
    "\n",
    "    # Loops through each line\n",
    "    for eachLine in contents:\n",
    "        #print(eachLine)\n",
    "        # for loop searched for keywords in searchTerms;\n",
    "        for keyword in contents:\n",
    "            # Searches for specific keywords\n",
    "            x = re.findall(r''+keyword+'', eachLine) \n",
    "            #print(x)\n",
    "            for found in x:\n",
    "                  results.append(found)\n",
    "\n",
    "    # Check to see if there are results\n",
    "    if len(results) == 0:\n",
    "        print(\"No Results\")\n",
    "        sys.exitt(1)\n",
    "        \n",
    "    print(results)\n"
   ]
  },
  {
   "cell_type": "code",
   "execution_count": null,
   "metadata": {},
   "outputs": [
    {
     "name": "stdout",
     "output_type": "stream",
     "text": [
      "{'561559': '561559'}\n"
     ]
    }
   ],
   "source": [
    "# https://stackoverflow.com/questions/24883009/how-to-compare-lists-whose-elements-are-regular-expressions-in-python \n",
    "list1 = ['519423', '561559']\n",
    "list2 = ['593','603','603','830','855','855','935','935','561559','600020', '600170', '600390', '600489', '600523', '600626', '600716', '600818', '600854', '600947', '600952', '601052', '601067', '601169', '601242', '601357', '601383', '601485', '601534', '601633', '601653', '601752', '601759', '601861', '601881', '601977', '601982', '602084', '602108', '602204', '602220', '602318', '602330', '602429', '602470', '602568', '602604', '602705', '602900', '603028', '603036', '603134', '603284', '603390']\n",
    "import re\n",
    "\n",
    "results = ({i:j  for j in list1 for i in list2 if re.match(i,j)})\n",
    "print(results)\n",
    " "
   ]
  }
 ],
 "metadata": {
  "kernelspec": {
   "display_name": "Python 3.10.6 64-bit",
   "language": "python",
   "name": "python3"
  },
  "language_info": {
   "codemirror_mode": {
    "name": "ipython",
    "version": 3
   },
   "file_extension": ".py",
   "mimetype": "text/x-python",
   "name": "python",
   "nbconvert_exporter": "python",
   "pygments_lexer": "ipython3",
   "version": "3.10.6"
  },
  "orig_nbformat": 4,
  "vscode": {
   "interpreter": {
    "hash": "26de051ba29f2982a8de78e945f0abaf191376122a1563185a90213a26c5da77"
   }
  }
 },
 "nbformat": 4,
 "nbformat_minor": 2
}
