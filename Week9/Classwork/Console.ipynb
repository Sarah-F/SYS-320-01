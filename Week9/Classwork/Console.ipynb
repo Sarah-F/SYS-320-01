{
 "cells": [
  {
   "cell_type": "code",
   "execution_count": 11,
   "metadata": {},
   "outputs": [],
   "source": [
    "import os, sys, argparse, paramiko\n",
    "from getpass import getpass\n",
    "from os.path import exists"
   ]
  },
  {
   "cell_type": "code",
   "execution_count": 12,
   "metadata": {},
   "outputs": [],
   "source": [
    "# Create the password prompt\n",
    "thePass = getpass(prompt=\"Please enter your SSH password:  \")\n",
    "\n",
    "# Host information\n",
    "host = \"192.168.6.71\"\n",
    "port = 2222\n",
    "username = \"sarah.fornaldes\"\n",
    "password = thePass\n",
    "\n",
    "try:\n",
    "    ssh = paramiko.SSHClient()\n",
    "    ssh.set_missing_host_key_policy(paramiko.AutoAddPolicy())\n",
    "    ssh.connect(host, port, username, password)\n",
    "\n",
    "except paramiko.AuthenticationException:\n",
    "    print(\"Authentication failed\")"
   ]
  },
  {
   "cell_type": "code",
   "execution_count": 13,
   "metadata": {},
   "outputs": [],
   "source": [
    "sftp = ssh.open_sftp()\n",
    "\n",
    "# Run a command to scan all known directories on Linux that have a *bin* directory\n",
    "command = '/home/ubuntu/kraken --folder /usr/bin --folder  --folder /usr/sbin/   --folder /usr/local/bin  --folder /sbin  --folder /usr/local/sbin  --folder /bin'\n",
    "\n",
    "ssh.exec_command('kraken')\n",
    "sftp.put('kraken', 'kraken')\n",
    "\n",
    "# Get the output from the command\n",
    "stdin, stdout, stderr  = ssh.exec_command(command)\n",
    "\n",
    "# Get results  from stdout\n",
    "lines =  stdout.readlines()\n",
    "#print(lines)\n",
    "\n",
    "# Convert the list to a string\n",
    "output =  ''.join(lines)\n",
    "#print(output)\n",
    "\n",
    "# Header output\n",
    "sepHeader = '' + '### BEGIN ' + command + ' ###\\n\\n'\n",
    "\n",
    "# Footer output\n",
    "sepFooter = '' + '### END ' + command + ' ###\\n\\n'\n",
    "\n",
    "# Concatonate the header, output, and footer\n",
    "cmd_output =  sepHeader + output +  sepFooter\n",
    "#print(cmd_output)\n",
    "\n",
    "# Save the cmd_output to a file\n",
    "with open('results.txt', 'a') as f:\n",
    "    f.write(cmd_output)\n",
    "\n",
    "#ssh.close()\n",
    "sftp.close()"
   ]
  },
  {
   "cell_type": "code",
   "execution_count": 14,
   "metadata": {},
   "outputs": [],
   "source": [
    "sftp = ssh.open_sftp()\n",
    "\n",
    "# Uploads results.txt file\n",
    "uploadFiles = ['results.txt']\n",
    "\n",
    "# Runs the lsof command, lsof lists all open files for a process                \n",
    "command = 'sudo -S lsof -i -n'\n",
    "\n",
    "# Get the output from the command\n",
    "stdin, stdout, stderr  = ssh.exec_command(command)\n",
    "\n",
    "# Input password to run the command as sudo, including a new line character that provides \"Enter\" as if you were typing it in on a keyboard\n",
    "stdin.write(thePass + \"\\n\")\n",
    "\n",
    "# Get results  from stdout\n",
    "lines =  stdout.readlines()\n",
    "\n",
    "# Convert the list to a string\n",
    "output =  ''.join(lines)\n",
    "\n",
    "# Header output\n",
    "sepHeader = '' + '### BEGIN ' + command + ' ###\\n\\n'\n",
    "\n",
    "# Footer output\n",
    "sepFooter = '' + '### END ' + command + ' ###\\n\\n'\n",
    "\n",
    "# Concatonate the header, output, and footer\n",
    "cmd_output =  sepHeader + output +  sepFooter\n",
    "\n",
    "# Save the cmd_output to a file\n",
    "with open('resultsLsof.txt', 'a') as f:\n",
    "    f.write(cmd_output)\n",
    "\n",
    "# End SFTP Session\n",
    "#ssh.close()\n",
    "sftp.close()"
   ]
  },
  {
   "cell_type": "code",
   "execution_count": 15,
   "metadata": {},
   "outputs": [],
   "source": [
    "sftp = ssh.open_sftp()\n",
    "\n",
    "# Uploads results.txt file\n",
    "uploadFiles = ['results.txt']\n",
    "\n",
    "# Runs the lsof command, lsof lists all open files for a process                \n",
    "command = 'sudo -S lsof -i -n -p XXXX'\n",
    "\n",
    "# Get the output from the command\n",
    "stdin, stdout, stderr  = ssh.exec_command(command)\n",
    "stdin.write(thePass + \"\\n\")\n",
    "lines =  stdout.readlines()\n",
    "output =  ''.join(lines)\n",
    "sepHeader = '' + '### BEGIN ' + command + ' ###\\n\\n'\n",
    "sepFooter = '' + '### END ' + command + ' ###\\n\\n'\n",
    "cmd_output =  sepHeader + output +  sepFooter\n",
    "\n",
    "# Save the cmd_output to a file\n",
    "with open('resultsLsof-p.txt', 'a') as f:\n",
    "    f.write(cmd_output)\n",
    "\n",
    "# End SFTP Session\n",
    "ssh.close()\n",
    "sftp.close()"
   ]
  },
  {
   "cell_type": "markdown",
   "metadata": {},
   "source": [
    "look at threat report, use regex for lsof -p xxxx command\n",
    "https://github.com/Sarah-F/SYS-320-01/blob/main/Week5/Homework/searchLogCsv.py \n",
    "\n",
    "In our cases, the files have been under 600K.  In some cases, executables were discovered with a high entropy (random) filename but have only been seen in lowercase letters between 6 and 17 characters and are packed using UPX. \n",
    "\n",
    "https://docs.google.com/document/d/1qFpv0056RU098Vg0x5ASPkOeyFVz5zOzw4qUyEima54/edit"
   ]
  },
  {
   "cell_type": "markdown",
   "metadata": {},
   "source": [
    "Task 3: If there are any processes running containing matches from the task above for ThugStyle activity, use lsof to list all open files for that process.  - done\n",
    "\n",
    "Look for detections that include:\n",
    "\n",
    "pid=XXXX\n",
    "\n",
    "Where XXX is the process ID or (pid). The command “lsof” must be run as root or a user with sudo permissions to see details of a process owned by another user. The Ubuntu user for this assignment has sudo privileges.  In your video submission, be sure to show the lsof output.\n",
    "\n",
    "Done most of this, need to isolate pid\n"
   ]
  },
  {
   "cell_type": "markdown",
   "metadata": {},
   "source": [
    "Task 4: If any results are returned in the task above that are suspicious (based on known activity), write a program that downloads all suspicious files, including the suspicious binary and any log files associated with the processes.\n"
   ]
  },
  {
   "cell_type": "markdown",
   "metadata": {},
   "source": [
    "Task 5: Check running processes, the /etc/passwd file, and /var/log/auth.log file for known activity for ThugStyle.  Respond to the questions below:\n"
   ]
  },
  {
   "cell_type": "markdown",
   "metadata": {},
   "source": [
    "Filesystem activity\n",
    "\n",
    "-ThugStyle behaviors are associated with creating an account with the format x.xxxxx.  The first character has always been a letter, followed by a dot and real last names, sometimes containing a 01 suffix. Authentication to the account uses SSH.  \n",
    "\n",
    "-The malicious files are pseudo-random where it is a filename of a well known Linux command such as ps, cp, etc. but it is stored in a “*/bin*” directory to attempt to hide its existence.  In our cases, the files have been under 600K.  In some cases, executables were discovered with a high entropy (random) filename but have only been seen in lowercase letters between 6 and 17 characters and are packed using UPX.  Packers like UPX are used to compress executables, though threat actors use it to make identifying attributes of malicious files difficult because the compression hides API calls and other useful data to create signatures on.  Analysis of the file in those cases discovered it was used to exploit a local privilege vulnerability that led to administrative access.\n"
   ]
  },
  {
   "cell_type": "markdown",
   "metadata": {},
   "source": [
    "Network activity\n",
    "A few binaries have been known to listen on a well known port which is a simple web server that performs specific actions like executing a shell or system command, it is used as a staging host for exfiltrating files (transferring files out of the organization) to random IPs.  The listening executable is always owned by the user x.xxxxx.  Commands to the web server  are base64 encoded and usually executes a command shell or downloads and uploads files.  In all cases, where there is the web server, there have been other compromised hosts on the LAN.  All of the binaries are written in Go. If Go is not used extensively within the organization, then scans for Go binaries can be performed.\n"
   ]
  },
  {
   "cell_type": "markdown",
   "metadata": {},
   "source": [
    "Discussion\n",
    "\n",
    "In the above scenario, Yara can be used to search for Go binaries, files packed with UPX, and/or under the 600K filesize.  Yara is a python program that reads in a set of rules and scans files, processes, or memory for patterns matching the rules.  It is a defacto tool used in malware analysis, incident handling, and by security analysts.\n",
    "\n",
    "The following Yara rules are used to find ThugStyle activity.  Remember that unless you have really specific information to put into a Yara rule, it could generate a lot of false positives.  The more specific you are, the more likely you’ll find anomalies with few false positives.  When results are found, the question to think on is, for example, “Is that the normal location for that file on the specific OS version?”  Are files usually packed?  If so, what is the packer most commonly used?  With Yara, you can filter for specific versions of a packer as small changes are made as the program is updated.  Also, packing files is not that unusual.  Is it unusual for the specific OS and the file found?\n",
    "\n",
    "The Go application Kraken can be used to scan remote systems for threats because it supports scanning currently running processes and the filesystem.  It also compiles in the YARA rules so a single executable can be uploaded to a system and scanned for threat actor artifacts.\n",
    "\n",
    "The command “lsof” is a very powerful tool.  The command can be used to enumerate details about a process, list network sockets, etc.  The command stands for “LiSt Open Files.”  If you run:\n",
    "\n",
    " lsof -p XXXX\n",
    "\n",
    "\n",
    "Where XXX is a process ID.  It will list *all* open files, libraries, devices, etc. associated with the process.\n"
   ]
  }
 ],
 "metadata": {
  "kernelspec": {
   "display_name": "Python 3.10.6 64-bit",
   "language": "python",
   "name": "python3"
  },
  "language_info": {
   "codemirror_mode": {
    "name": "ipython",
    "version": 3
   },
   "file_extension": ".py",
   "mimetype": "text/x-python",
   "name": "python",
   "nbconvert_exporter": "python",
   "pygments_lexer": "ipython3",
   "version": "3.10.6"
  },
  "orig_nbformat": 4,
  "vscode": {
   "interpreter": {
    "hash": "26de051ba29f2982a8de78e945f0abaf191376122a1563185a90213a26c5da77"
   }
  }
 },
 "nbformat": 4,
 "nbformat_minor": 2
}
