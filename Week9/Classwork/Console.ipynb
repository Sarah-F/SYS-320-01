{
 "cells": [
  {
   "cell_type": "code",
   "execution_count": 23,
   "metadata": {},
   "outputs": [],
   "source": [
    "import os, sys, argparse, paramiko\n",
    "from getpass import getpass\n",
    "from os.path import exists"
   ]
  },
  {
   "cell_type": "code",
   "execution_count": 24,
   "metadata": {},
   "outputs": [],
   "source": [
    "# Create the password prompt\n",
    "thePass = getpass(prompt=\"Please enter your SSH password:  \")\n",
    "\n",
    "# Host information\n",
    "host = \"192.168.6.71\"\n",
    "port = 2222\n",
    "username = \"sarah.fornaldes\"\n",
    "password = thePass\n",
    "\n",
    "try:\n",
    "    ssh = paramiko.SSHClient()\n",
    "    ssh.set_missing_host_key_policy(paramiko.AutoAddPolicy())\n",
    "    ssh.connect(host, port, username, password)\n",
    "\n",
    "except paramiko.AuthenticationException:\n",
    "    print(\"Authentication failed\")"
   ]
  },
  {
   "cell_type": "markdown",
   "metadata": {},
   "source": [
    "# TASK 2"
   ]
  },
  {
   "cell_type": "code",
   "execution_count": 25,
   "metadata": {},
   "outputs": [],
   "source": [
    "sftp = ssh.open_sftp()\n",
    "\n",
    "# Run a command to scan all known directories on Linux that have a *bin* directory\n",
    "command = 'sudo -S /home/ubuntu/kraken --folder /usr/bin --folder --folder /usr/sbin/ --folder /usr/local/bin --folder /sbin --folder /usr/local/sbin --folder /bin'\n",
    "\n",
    "ssh.exec_command('kraken')\n",
    "sftp.put('kraken', 'kraken')\n",
    "\n",
    "thePass = getpass(prompt=\"Please enter your SSH password:  \")\n",
    "\n",
    "# Get the output from the command\n",
    "stdin, stdout, stderr  = ssh.exec_command(command)\n",
    "\n",
    "stdin.write(thePass + \"\\n\")\n",
    "stdin.flush()\n",
    "\n",
    "# Get results  from stdout\n",
    "lines =  stdout.readlines()\n",
    "#print(lines)\n",
    "\n",
    "# Convert the list to a string\n",
    "output =  ''.join(lines)\n",
    "\n",
    "# Header output\n",
    "sepHeader = '' + '### BEGIN ' + command + ' ###\\n\\n'\n",
    "\n",
    "# Footer output\n",
    "sepFooter = '' + '### END ' + command + ' ###\\n\\n'\n",
    "\n",
    "# Concatonate the header, output, and footer\n",
    "cmd_output = sepHeader + output + sepFooter\n",
    "\n",
    "# Save the cmd_output to a file\n",
    "with open('results123.txt', 'a') as f:\n",
    "    f.write(cmd_output)\n",
    "\n",
    "#ssh.close()\n",
    "#sftp.close()"
   ]
  },
  {
   "cell_type": "markdown",
   "metadata": {},
   "source": [
    "# TASK 3"
   ]
  },
  {
   "cell_type": "code",
   "execution_count": 26,
   "metadata": {},
   "outputs": [],
   "source": [
    "#sftp = ssh.open_sftp()\n",
    "\n",
    "# Uploads results.txt file\n",
    "uploadFiles = ['results123.txt']\n",
    "\n",
    "# Runs the lsof command, lsof lists all open files for a process                \n",
    "command = \"sudo -S lsof -i -n | awk '{print $2}' \"\n",
    "\n",
    "# Get the output from the command\n",
    "stdin, stdout, stderr  = ssh.exec_command(command)\n",
    "\n",
    "# Input password to run the command as sudo, including a new line character that provides \"Enter\" as if you were typing it in on a keyboard\n",
    "stdin.write(thePass + \"\\n\")\n",
    "\n",
    "# Get results  from stdout\n",
    "lines =  stdout.readlines()\n",
    "\n",
    "# Convert the list to a string\n",
    "output =  ''.join(lines)\n",
    "\n",
    "# Header output\n",
    "sepHeader = '' + '### BEGIN ' + command + ' ###\\n\\n'\n",
    "\n",
    "# Footer output\n",
    "sepFooter = '' + '### END ' + command + ' ###\\n\\n'\n",
    "\n",
    "# Concatonate the header, output, and footer\n",
    "cmd_output =  sepHeader + output +  sepFooter\n",
    "\n",
    "# Save the cmd_output to a file\n",
    "with open('resultsLsof.txt', 'a') as f:\n",
    "    f.write(cmd_output)\n",
    "\n",
    "# End SFTP Session\n",
    "#ssh.close()\n",
    "#sftp.close()"
   ]
  },
  {
   "cell_type": "code",
   "execution_count": 27,
   "metadata": {},
   "outputs": [],
   "source": [
    "# Runs the lsof command, lsof lists all open files for a process                \n",
    "command = ['sudo -S lsof -p  519423','sudo -S lsof -p  561559'] \n",
    "\n",
    "for eachCMD in command:\n",
    "\n",
    "    stdin, stdout, stderr  = ssh.exec_command(eachCMD)\n",
    "    stdin.write(thePass + \"\\n\")\n",
    "    lines =  stdout.readlines()\n",
    "    output =  ''.join(lines)\n",
    "    sepHeader = '' + '### BEGIN ' + eachCMD + ' ###\\n\\n'\n",
    "    sepFooter = '' + '### END ' + eachCMD + ' ###\\n\\n'\n",
    "    cmd_output =  sepHeader + output +  sepFooter\n",
    "\n",
    "# Save the cmd_output to a file\n",
    "with open('resultsLsof-p.txt', 'a') as f:\n",
    "    f.write(cmd_output)\n",
    "\n",
    "# End SFTP Session\n",
    "#ssh.close()\n",
    "#sftp.close()"
   ]
  },
  {
   "cell_type": "code",
   "execution_count": 28,
   "metadata": {},
   "outputs": [],
   "source": [
    "#GETS THE NAME COLUMN FROM THE PIDS\n",
    "\n",
    "command = \"sudo -S lsof -p 561559  | awk '{print $9}' \"\n",
    "stdin, stdout, stderr  = ssh.exec_command(command)\n",
    "stdin.write(thePass + \"\\n\")\n",
    "lines =  stdout.readlines()\n",
    "output =  ''.join(lines)\n",
    "sepHeader = '' + '### BEGIN ' + command + ' ###\\n\\n'\n",
    "sepFooter = '' + '### END ' + command + ' ###\\n\\n'\n",
    "cmd_output =  sepHeader + output +  sepFooter\n",
    "\n",
    "# Save the cmd_output to a file\n",
    "with open('resultsLsof-pid.txt', 'a') as f:\n",
    "    f.write(cmd_output)"
   ]
  },
  {
   "cell_type": "markdown",
   "metadata": {},
   "source": [
    "# TASK 4"
   ]
  },
  {
   "cell_type": "code",
   "execution_count": 29,
   "metadata": {},
   "outputs": [
    {
     "name": "stdout",
     "output_type": "stream",
     "text": [
      "total 508\n",
      "\n",
      "-rwxr-xr-x 1 p.dalton p.dalton 511476 Feb 18  2022 aqwerpuqwerj\n",
      "\n",
      "-rw-r--r-- 1 p.dalton p.dalton      6 Oct 25 23:32 d.pid\n",
      "\n",
      "drwxr-xr-x 2 p.dalton p.dalton   4096 Oct 29 19:51 test-lk\n",
      "\n"
     ]
    }
   ],
   "source": [
    "command = 'ls -l /home/p.dalton'\n",
    "stdin, stdout, stderr  = ssh.exec_command(command)\n",
    "for line in stdout.readlines():\n",
    "    print(line)\n"
   ]
  },
  {
   "cell_type": "code",
   "execution_count": 30,
   "metadata": {},
   "outputs": [],
   "source": [
    "# PUTTY'd into 192.168.6.71, cd /home/p.dalton, cd test-lk, ls\n",
    "sftp.get('/home/p.dalton/aqwerpuqwerj','aqwerpuqwerj')\n",
    "sftp.get('/home/p.dalton/d.pid','d.pid')\n",
    "sftp.get('/home/p.dalton/test-lk/d.pid','d.pid')"
   ]
  },
  {
   "cell_type": "markdown",
   "metadata": {},
   "source": [
    "# TASK 5"
   ]
  },
  {
   "cell_type": "code",
   "execution_count": 31,
   "metadata": {},
   "outputs": [
    {
     "name": "stdout",
     "output_type": "stream",
     "text": [
      "egrep\n",
      "\n"
     ]
    }
   ],
   "source": [
    "# What is the process name? egrep\n",
    "command = 'ps -p 561559 -o comm='\n",
    "stdin, stdout, stderr  = ssh.exec_command(command)\n",
    "for line in stdout.readlines():\n",
    "    print(line)"
   ]
  },
  {
   "cell_type": "code",
   "execution_count": 32,
   "metadata": {},
   "outputs": [
    {
     "name": "stdout",
     "output_type": "stream",
     "text": [
      "p.dalton  561559  0.0  0.0 1003532 1212 ?        Ssl  Oct25   0:01 [go-daemon sample]\n",
      "\n",
      "sarah.f+  633122  0.0  0.0   8616  3064 ?        Ss   19:56   0:00 bash -c ps -aux | grep 561559 \n",
      "\n",
      "sarah.f+  633124  0.0  0.0   8160   720 ?        S    19:56   0:00 grep 561559\n",
      "\n"
     ]
    }
   ],
   "source": [
    "# Which user is running the process? p.dalton\n",
    "command = 'ps -aux | grep 561559 '\n",
    "stdin, stdout, stderr  = ssh.exec_command(command)\n",
    "for line in stdout.readlines():\n",
    "    print(line)\n"
   ]
  },
  {
   "cell_type": "code",
   "execution_count": 33,
   "metadata": {},
   "outputs": [
    {
     "name": "stdout",
     "output_type": "stream",
     "text": [
      "p.dalton         pts/0    216.93.152.115   Tue Oct 25 23:23:31 -0400 2022\n",
      "\n"
     ]
    }
   ],
   "source": [
    "# Has the user logged in before via SSH? Yes\n",
    "# When did the user login? Tue Oct 25 23:23:31\n",
    "command = 'lastlog | grep p.dalton'\n",
    "stdin, stdout, stderr  = ssh.exec_command(command)\n",
    "for line in stdout.readlines():\n",
    "    print(line)"
   ]
  },
  {
   "cell_type": "code",
   "execution_count": 34,
   "metadata": {},
   "outputs": [
    {
     "name": "stdout",
     "output_type": "stream",
     "text": [
      "p.dalton pts/0        216.93.152.115   Tue Oct 25 23:23 - 23:32  (00:09)\n",
      "\n",
      "p.dalton pts/0        192.168.6.72     Sun Feb 27 00:52 - 01:17  (00:24)\n",
      "\n",
      "p.dalton pts/1        10.223.0.132     Sat Feb 26 23:50 - 00:27  (00:36)\n",
      "\n",
      "p.dalton pts/1        10.223.0.132     Sat Feb 26 23:44 - 23:44  (00:00)\n",
      "\n",
      "\n",
      "\n",
      "wtmp begins Sat Feb 26 23:26:55 2022\n",
      "\n"
     ]
    }
   ],
   "source": [
    "# How long was the login session? 9 seconds\n",
    "command = 'last p.dalton'\n",
    "stdin, stdout, stderr  = ssh.exec_command(command)\n",
    "for line in stdout.readlines():\n",
    "    print(line)\n"
   ]
  },
  {
   "cell_type": "code",
   "execution_count": 35,
   "metadata": {},
   "outputs": [
    {
     "name": "stdout",
     "output_type": "stream",
     "text": [
      "total 508\n",
      "\n",
      "-rwxr-xr-x 1 p.dalton p.dalton 511476 Feb 18  2022 aqwerpuqwerj\n",
      "\n",
      "-rw-r--r-- 1 p.dalton p.dalton      6 Oct 25 23:32 d.pid\n",
      "\n",
      "drwxr-xr-x 2 p.dalton p.dalton   4096 Oct 29 19:51 test-lk\n",
      "\n"
     ]
    }
   ],
   "source": [
    "# What is located in the unauthorized user’s home directory? The executable file aqwerpuqwerj, the file d.pid, and the directory test-lk. In test-lk there is a executable file called d.pid\n",
    "command = 'ls -l /home/p.dalton'\n",
    "stdin, stdout, stderr  = ssh.exec_command(command)\n",
    "for line in stdout.readlines():\n",
    "    print(line)\n"
   ]
  },
  {
   "cell_type": "code",
   "execution_count": 36,
   "metadata": {},
   "outputs": [],
   "source": [
    "# End SFTP Session\n",
    "ssh.close()\n",
    "sftp.close()"
   ]
  },
  {
   "cell_type": "markdown",
   "metadata": {},
   "source": [
    "# Reflections"
   ]
  },
  {
   "cell_type": "markdown",
   "metadata": {},
   "source": [
    "- Based on what you discovered and the information in the threat report, what is your conclusion about the host you analyzed?\n",
    "    - It has been compromised. An unauthorized user accessed the sytem via ssh on Tue Oct 25 23:23:31 for 9 seconds. The executable file aqwerpuqwerj, the file d.pid, and the directory test-lk. In test-lk there is a executable file called d.pid.\n",
    "\n",
    "- What did you like the most and least about this assignment?\n",
    "    - Most: the use of paramiko was fun.\n",
    "    - Least: it was very hard.\n",
    "\n",
    "- What additional questions do you have?\n",
    "    - What resources do you have for us to study.\n"
   ]
  }
 ],
 "metadata": {
  "kernelspec": {
   "display_name": "Python 3.10.6 64-bit",
   "language": "python",
   "name": "python3"
  },
  "language_info": {
   "codemirror_mode": {
    "name": "ipython",
    "version": 3
   },
   "file_extension": ".py",
   "mimetype": "text/x-python",
   "name": "python",
   "nbconvert_exporter": "python",
   "pygments_lexer": "ipython3",
   "version": "3.10.6"
  },
  "orig_nbformat": 4,
  "vscode": {
   "interpreter": {
    "hash": "26de051ba29f2982a8de78e945f0abaf191376122a1563185a90213a26c5da77"
   }
  }
 },
 "nbformat": 4,
 "nbformat_minor": 2
}
