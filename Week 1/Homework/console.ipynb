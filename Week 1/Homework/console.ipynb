{
 "cells": [
  {
   "cell_type": "code",
   "execution_count": 146,
   "metadata": {},
   "outputs": [
    {
     "data": {
      "text/plain": [
       "<module 'syslogKlogind' from '/Users/sarahfornaldes/Desktop/SYS-320-01/Week 1/Homework/syslogKlogind.py'>"
      ]
     },
     "execution_count": 146,
     "metadata": {},
     "output_type": "execute_result"
    }
   ],
   "source": [
    "import syslogSSH,syslogSU,syslogFTPConnection,syslogKlogind,syslogOpenSSH\n",
    "import importlib\n",
    "importlib.reload(syslogSSH)\n",
    "importlib.reload(syslogSU)\n",
    "importlib.reload(syslogFTPConnection)\n",
    "importlib.reload(syslogKlogind)\n",
    "importlib.reload(syslogOpenSSH)"
   ]
  },
  {
   "cell_type": "markdown",
   "metadata": {},
   "source": [
    "# Review system logs"
   ]
  },
  {
   "cell_type": "markdown",
   "metadata": {},
   "source": [
    "### SSH Authentication Failure domains"
   ]
  },
  {
   "cell_type": "code",
   "execution_count": 147,
   "metadata": {},
   "outputs": [
    {
     "name": "stdout",
     "output_type": "stream",
     "text": [
      "rhost=200.60.37.201\n",
      "rhost=biblioteka.wsi.edu.pl\n",
      "rhost=68.143.156.89.nw.nuvox.net\n",
      "rhost=85.44.47.166\n",
      "rhost=c9063558.virtua.com.br\n",
      "rhost=82.77.200.128\n",
      "rhost=193.110.106.11\n",
      "rhost=60.30.224.116\n",
      "rhost=211.214.161.141\n",
      "rhost=218.55.234.102\n",
      "rhost=218.16.122.48\n",
      "rhost=massive.merukuru.org\n",
      "rhost=p15105218.pureserver.info\n",
      "rhost=195.129.24.210\n",
      "rhost=61-220-159-99.hinet-ip.hinet.net\n",
      "rhost=211.137.205.253\n",
      "rhost=adsl-70-242-75-179.dsl.ksc2mo.swbell.net\n",
      "rhost=217.60.212.66\n",
      "rhost=65.166.159.14\n",
      "rhost=211.9.58.217\n",
      "rhost=h64-187-1-131.gtconnect.net\n",
      "rhost=ip-216-69-169-168.ip.secureserver.net\n",
      "rhost=zummit.com\n",
      "rhost=c51471f2c.cable.wanadoo.nl\n",
      "rhost=210.229.150.228\n",
      "rhost=211.46.224.253\n",
      "rhost=61.53.154.93\n",
      "rhost=211.115.206.155\n",
      "rhost=061092085098.ctinets.com\n",
      "rhost=212.0.132.20\n",
      "rhost=220.117.241.87\n",
      "rhost=csnsu.nsuok.edu\n",
      "rhost=n219076184117.netvigator.com\n",
      "rhost=209.152.168.249\n",
      "rhost=202-132-40-29.adsl.ttn.net\n",
      "rhost=218.188.2.4\n",
      "rhost=d211-116-254-214.rev.krline.net\n",
      "rhost=210.76.59.29\n",
      "rhost=150.183.249.110\n",
      "rhost=202.181.236.180\n",
      "rhost=220-135-151-1.hinet-ip.hinet.net\n",
      "rhost=203.251.225.101\n",
      "rhost=207.243.167.114\n",
      "rhost=62-192-102-94.dsl.easynet.nl\n",
      "rhost=211-76-104-65.ebix.net.tw\n",
      "rhost=troi.bluesky-technologies.com\n",
      "rhost=218.22.3.51\n"
     ]
    }
   ],
   "source": [
    "syslogSSH.ssh_fail('../../logs/Linux_2k.log',['sshd\\(pam_unix\\).*authentication failure.*'])"
   ]
  },
  {
   "cell_type": "markdown",
   "metadata": {},
   "source": [
    "### SSH Open"
   ]
  },
  {
   "cell_type": "code",
   "execution_count": null,
   "metadata": {},
   "outputs": [],
   "source": [
    "syslogOpenSSH.ssh_open('../../logs/Linux_2k.log',['sshd\\(pam_unix\\).*session opened for user.*'])"
   ]
  },
  {
   "cell_type": "markdown",
   "metadata": {},
   "source": [
    "### SU Open"
   ]
  },
  {
   "cell_type": "markdown",
   "metadata": {},
   "source": []
  },
  {
   "cell_type": "code",
   "execution_count": 148,
   "metadata": {},
   "outputs": [
    {
     "name": "stdout",
     "output_type": "stream",
     "text": [
      "cyrus\n",
      "news\n"
     ]
    }
   ],
   "source": [
    "syslogSU.su_open('../../logs/Linux_2k.log',['su\\(pam_unix\\).*session opened for user.*'])"
   ]
  },
  {
   "cell_type": "markdown",
   "metadata": {},
   "source": [
    "### FTP Connections"
   ]
  },
  {
   "cell_type": "code",
   "execution_count": 149,
   "metadata": {},
   "outputs": [
    {
     "name": "stdout",
     "output_type": "stream",
     "text": [
      "221.4.102.93\n",
      "63.197.98.106\n",
      "202.82.200.188\n",
      "210.223.97.117\n",
      "83.116.207.11\n",
      "206.47.209.10\n",
      "220.94.205.45\n",
      "210.118.170.95\n",
      "82.68.222.195\n",
      "211.57.88.250\n",
      "81.171.220.226\n",
      "62.99.164.82\n",
      "172.181.208.156\n",
      "61.74.96.178\n",
      "82.252.162.81\n",
      "210.245.165.136\n",
      "212.65.68.82\n",
      "216.12.111.241\n",
      "222.33.90.199\n",
      "24.54.76.216\n",
      "206.196.21.129\n",
      "218.146.61.230\n",
      "211.42.188.206\n",
      "217.187.83.50\n",
      "218.69.108.57\n",
      "82.83.227.67\n",
      "218.38.58.3\n",
      "207.30.238.8\n",
      "211.72.151.162\n",
      "208.62.55.75\n",
      "211.72.2.106\n",
      "67.95.49.172\n",
      "203.101.45.59\n",
      "211.107.232.1\n",
      "211.167.68.59\n",
      "217.187.83.139\n",
      "84.102.20.2\n",
      "82.68.222.194\n"
     ]
    }
   ],
   "source": [
    "syslogFTPConnection.ftp_connection('../../logs/Linux_2k.log',['ftpd.*connection from.*'])\n"
   ]
  },
  {
   "cell_type": "markdown",
   "metadata": {},
   "source": [
    "### Klogind Failure"
   ]
  },
  {
   "cell_type": "code",
   "execution_count": 150,
   "metadata": {},
   "outputs": [
    {
     "name": "stdout",
     "output_type": "stream",
     "text": [
      "163.27.187.39\n"
     ]
    }
   ],
   "source": [
    "syslogKlogind.kLog_auth_fail('../../logs/Linux_2k.log',['klogind.*Authentication failed from.*'])"
   ]
  }
 ],
 "metadata": {
  "kernelspec": {
   "display_name": "Python 3.8.9 64-bit",
   "language": "python",
   "name": "python3"
  },
  "language_info": {
   "codemirror_mode": {
    "name": "ipython",
    "version": 3
   },
   "file_extension": ".py",
   "mimetype": "text/x-python",
   "name": "python",
   "nbconvert_exporter": "python",
   "pygments_lexer": "ipython3",
   "version": "3.8.9"
  },
  "orig_nbformat": 4,
  "vscode": {
   "interpreter": {
    "hash": "31f2aee4e71d21fbe5cf8b01ff0e069b9275f58929596ceb00d14d90e3e16cd6"
   }
  }
 },
 "nbformat": 4,
 "nbformat_minor": 2
}
