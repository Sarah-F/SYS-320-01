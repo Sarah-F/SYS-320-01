{
 "cells": [
  {
   "cell_type": "code",
   "execution_count": 33,
   "metadata": {},
   "outputs": [
    {
     "data": {
      "text/plain": [
       "<module 'apacheLog' from '/Users/sarahfornaldes/Desktop/SYS-320-01/Week 2/Homework/apacheLog.py'>"
      ]
     },
     "execution_count": 33,
     "metadata": {},
     "output_type": "execute_result"
    }
   ],
   "source": [
    "import apacheLog\n",
    "import importlib\n",
    "importlib.reload(apacheLog)"
   ]
  },
  {
   "cell_type": "markdown",
   "metadata": {},
   "source": [
    "### APACHE PHP - BYTES SENT, BYTES RECIEVED\n"
   ]
  },
  {
   "cell_type": "code",
   "execution_count": 34,
   "metadata": {},
   "outputs": [
    {
     "name": "stdout",
     "output_type": "stream",
     "text": [
      "QQProtectUpd.exe close, bytes bytes sent bytes bytes recevied \n",
      "QQ.exe tcpconn.tencent.com:80 133 bytes sent 0 bytes recevied \n",
      "QQ.exe tcpconn3.tencent.com:80 0 bytes sent 0 bytes recevied \n",
      "QQ.exe tcpconn6.tencent.com:80 0 bytes sent 0 bytes recevied \n",
      "QQ.exe tcpconn6.tencent.com:443 0 bytes sent 0 bytes recevied \n",
      "QQ.exe close, bytes bytes sent bytes bytes recevied \n",
      "QQ.exe tcpconn3.tencent.com:443 149 bytes sent 121 bytes recevied \n"
     ]
    }
   ],
   "source": [
    "apacheLog.bytes_sent_bytes_recieved('../../logs/Proxifier_2k.log','proxy','QQ1')"
   ]
  },
  {
   "cell_type": "markdown",
   "metadata": {},
   "source": [
    "APACHE PROXY OPENED MESSAGE"
   ]
  },
  {
   "cell_type": "code",
   "execution_count": 35,
   "metadata": {},
   "outputs": [
    {
     "name": "stdout",
     "output_type": "stream",
     "text": [
      "QQ.exe 183.60.49.182:443 open through proxy\n",
      "QQPlayer.exe open through through proxy\n",
      "QQProtectUpd.exe open through through proxy\n",
      "QQ.exe tcpconn6.tencent.com:443 open through proxy\n",
      "QQ.exe tcpconn6.tencent.com:80 open through proxy\n",
      "QQ.exe tcpconn.tencent.com:80 open through proxy\n",
      "QQ.exe open through through proxy\n",
      "QQ.exe tcpconn3.tencent.com:443 open through proxy\n"
     ]
    }
   ],
   "source": [
    "apacheLog.proxy_opened_message('../../logs/Proxifier_2k.log','proxy','QQ2')"
   ]
  },
  {
   "cell_type": "markdown",
   "metadata": {},
   "source": [
    "### Assignment Quesitons"
   ]
  },
  {
   "cell_type": "markdown",
   "metadata": {},
   "source": [
    "What is your interpretation of the results that you discovered (Did the files match known threat intell information?  Was there activity to and from the same remote host?)\n",
    "- The files do appear to match the known threat intell information and there seems to be some activity to and from the same remote host."
   ]
  },
  {
   "cell_type": "markdown",
   "metadata": {},
   "source": [
    "What did you like the most and least about this assignment? NOTE: These help me understand how to improve on assignments and know what is working.)\n",
    "- The part I liked least was getting rid of the qq part, I was unable to figure out how to do it and even went to tutoring, but we were unable to figure out what was wrong."
   ]
  },
  {
   "cell_type": "markdown",
   "metadata": {},
   "source": [
    "What additional questions do you have about this week's material?\n",
    "- How do we get rid of the line containing qq."
   ]
  }
 ],
 "metadata": {
  "kernelspec": {
   "display_name": "Python 3.8.1 64-bit",
   "language": "python",
   "name": "python3"
  },
  "language_info": {
   "codemirror_mode": {
    "name": "ipython",
    "version": 3
   },
   "file_extension": ".py",
   "mimetype": "text/x-python",
   "name": "python",
   "nbconvert_exporter": "python",
   "pygments_lexer": "ipython3",
   "version": "3.8.1"
  },
  "orig_nbformat": 4,
  "vscode": {
   "interpreter": {
    "hash": "aee8b7b246df8f9039afb4144a1f6fd8d2ca17a180786b69acc140d282b71a49"
   }
  }
 },
 "nbformat": 4,
 "nbformat_minor": 2
}
