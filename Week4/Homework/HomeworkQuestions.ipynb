{
 "cells": [
  {
   "cell_type": "markdown",
   "metadata": {},
   "source": [
    "# Do you see anything of concern with the attempts to obtain a shell? Provide a brief explanation.\n",
    "- TBD"
   ]
  },
  {
   "cell_type": "markdown",
   "metadata": {},
   "source": [
    "# What did you like the most and least about this assignment?\n",
    "- What I liked most about this assignment was that it included stuff we previously learned in order to make us not forget stuff we've done the moment we move on to something new.\n",
    "- What I liked least was that I could not get yaml to install properly"
   ]
  },
  {
   "cell_type": "markdown",
   "metadata": {},
   "source": [
    "# What additional questions do you have?\n",
    "- Does my code work properly, and how do I get yaml to run properly."
   ]
  }
 ],
 "metadata": {
  "kernelspec": {
   "display_name": "Python 3.8.9 64-bit",
   "language": "python",
   "name": "python3"
  },
  "language_info": {
   "name": "python",
   "version": "3.8.9"
  },
  "orig_nbformat": 4,
  "vscode": {
   "interpreter": {
    "hash": "31f2aee4e71d21fbe5cf8b01ff0e069b9275f58929596ceb00d14d90e3e16cd6"
   }
  }
 },
 "nbformat": 4,
 "nbformat_minor": 2
}
